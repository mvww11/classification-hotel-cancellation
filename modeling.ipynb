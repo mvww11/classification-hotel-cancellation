{
 "cells": [
  {
   "cell_type": "markdown",
   "metadata": {},
   "source": [
    "# Modelagem\n",
    "Após terminar a Análise Exploratória de Dados e o Feature Engineering, feitos no arquivo [EDA.ipynb](EDA.ipynb), vamos iniciar o treinamento de nosso modelo. O objetivo do modelo é prever se uma reserva será cancelada.\n",
    "\n",
    "Utilizaremos o algoritmo XGBoost, que é uma implementação otimizada de Gradient Boosting. O Gradient Boosting é um algoritmo de ensemble no qual treinamos classificadores de forma sequencial, em que cada classificador tenta corrigir os erros dos anteriores por meio da modalagem dos resíduos deixados por eles."
   ]
  },
  {
   "cell_type": "code",
   "execution_count": 1,
   "metadata": {},
   "outputs": [],
   "source": [
    "#carregando as bibliotecas\n",
    "import pandas as pd\n",
    "import numpy as np\n",
    "import seaborn as sns\n",
    "import matplotlib.pyplot as plt\n",
    "from xgboost import XGBClassifier\n",
    "from sklearn.metrics import accuracy_score, recall_score, precision_score, confusion_matrix, classification_report, f1_score, plot_roc_curve\n",
    "\n",
    "\n",
    "#carregando os dados\n",
    "df = pd.read_csv('hotels_model_data.csv')"
   ]
  },
  {
   "cell_type": "markdown",
   "metadata": {},
   "source": [
    "#os meses de ArrivalDateMonth estãocomo string.\n",
    "print(df.ArrivalDateMonth.unique())\n",
    "\n",
    "#convertendo os meses para números (para não trabalhar com 12 dummies)\n",
    "df.ArrivalDateMonth = df.ArrivalDateMonth.map({'January': 1, 'February': 2, 'March': 3, 'April': 4, 'May': 5, 'June': 6, 'July': 7, 'August': 8, 'September': 9, 'October': 10, 'November': 11, 'December': 12})"
   ]
  },
  {
   "cell_type": "markdown",
   "metadata": {},
   "source": [
    "## Preprocessamento das features\n",
    "Antes do treinamento, faremos um preprocessamento final das features. Vamos transformar as features categórias em dummies."
   ]
  },
  {
   "cell_type": "code",
   "execution_count": 2,
   "metadata": {},
   "outputs": [],
   "source": [
    "#convertendo a quantidade de Children para int (estão em float)\n",
    "df.Children = df.Children.apply(lambda x: int(x))"
   ]
  },
  {
   "cell_type": "code",
   "execution_count": 3,
   "metadata": {},
   "outputs": [],
   "source": [
    "#substituindo os 'espaços' por '_' nas categorias de DepositType\n",
    "df.DepositType = df.DepositType.map({'No Deposit': 'No_Deposit', 'Non Refund': 'Non_Refund', 'Refundable': 'Refundable'})"
   ]
  },
  {
   "cell_type": "code",
   "execution_count": 4,
   "metadata": {},
   "outputs": [],
   "source": [
    "#gerando as colunas dummies das features categóricas\n",
    "df_model = pd.get_dummies(df, columns=['ArrivalDateMonth', 'Meal', 'MarketSegment', 'DistributionChannel', 'ReservedRoomType', 'DepositType', 'CustomerType'])"
   ]
  },
  {
   "cell_type": "code",
   "execution_count": 5,
   "metadata": {},
   "outputs": [
    {
     "name": "stdout",
     "output_type": "stream",
     "text": [
      "<class 'pandas.core.frame.DataFrame'>\n",
      "RangeIndex: 78879 entries, 0 to 78878\n",
      "Data columns (total 61 columns):\n",
      " #   Column                         Non-Null Count  Dtype  \n",
      "---  ------                         --------------  -----  \n",
      " 0   IsCanceled                     78879 non-null  int64  \n",
      " 1   LeadTime                       78879 non-null  int64  \n",
      " 2   ArrivalDateWeekNumber          78879 non-null  int64  \n",
      " 3   ArrivalDateDayOfMonth          78879 non-null  int64  \n",
      " 4   StaysInWeekendNights           78879 non-null  int64  \n",
      " 5   StaysInWeekNights              78879 non-null  int64  \n",
      " 6   Adults                         78879 non-null  int64  \n",
      " 7   Children                       78879 non-null  int64  \n",
      " 8   Babies                         78879 non-null  int64  \n",
      " 9   IsRepeatedGuest                78879 non-null  int64  \n",
      " 10  PreviousCancellations          78879 non-null  int64  \n",
      " 11  PreviousBookingsNotCanceled    78879 non-null  int64  \n",
      " 12  BookingChanges                 78879 non-null  int64  \n",
      " 13  ADR                            78879 non-null  float64\n",
      " 14  RequiredCarParkingSpaces       78879 non-null  int64  \n",
      " 15  TotalOfSpecialRequests         78879 non-null  int64  \n",
      " 16  isOnlyWeekend                  78879 non-null  int64  \n",
      " 17  isEU                           78879 non-null  int64  \n",
      " 18  isPRT                          78879 non-null  int64  \n",
      " 19  Agent_top                      78879 non-null  int64  \n",
      " 20  ArrivalDateMonth_April         78879 non-null  uint8  \n",
      " 21  ArrivalDateMonth_August        78879 non-null  uint8  \n",
      " 22  ArrivalDateMonth_December      78879 non-null  uint8  \n",
      " 23  ArrivalDateMonth_February      78879 non-null  uint8  \n",
      " 24  ArrivalDateMonth_January       78879 non-null  uint8  \n",
      " 25  ArrivalDateMonth_July          78879 non-null  uint8  \n",
      " 26  ArrivalDateMonth_June          78879 non-null  uint8  \n",
      " 27  ArrivalDateMonth_March         78879 non-null  uint8  \n",
      " 28  ArrivalDateMonth_May           78879 non-null  uint8  \n",
      " 29  ArrivalDateMonth_November      78879 non-null  uint8  \n",
      " 30  ArrivalDateMonth_October       78879 non-null  uint8  \n",
      " 31  ArrivalDateMonth_September     78879 non-null  uint8  \n",
      " 32  Meal_BB                        78879 non-null  uint8  \n",
      " 33  Meal_FB                        78879 non-null  uint8  \n",
      " 34  Meal_HB                        78879 non-null  uint8  \n",
      " 35  Meal_SC                        78879 non-null  uint8  \n",
      " 36  MarketSegment_Aviation         78879 non-null  uint8  \n",
      " 37  MarketSegment_Complementary    78879 non-null  uint8  \n",
      " 38  MarketSegment_Corporate        78879 non-null  uint8  \n",
      " 39  MarketSegment_Direct           78879 non-null  uint8  \n",
      " 40  MarketSegment_Groups           78879 non-null  uint8  \n",
      " 41  MarketSegment_Offline TA/TO    78879 non-null  uint8  \n",
      " 42  MarketSegment_Online TA        78879 non-null  uint8  \n",
      " 43  DistributionChannel_Corporate  78879 non-null  uint8  \n",
      " 44  DistributionChannel_Direct     78879 non-null  uint8  \n",
      " 45  DistributionChannel_GDS        78879 non-null  uint8  \n",
      " 46  DistributionChannel_TA/TO      78879 non-null  uint8  \n",
      " 47  ReservedRoomType_A             78879 non-null  uint8  \n",
      " 48  ReservedRoomType_B             78879 non-null  uint8  \n",
      " 49  ReservedRoomType_C             78879 non-null  uint8  \n",
      " 50  ReservedRoomType_D             78879 non-null  uint8  \n",
      " 51  ReservedRoomType_E             78879 non-null  uint8  \n",
      " 52  ReservedRoomType_F             78879 non-null  uint8  \n",
      " 53  ReservedRoomType_G             78879 non-null  uint8  \n",
      " 54  DepositType_No_Deposit         78879 non-null  uint8  \n",
      " 55  DepositType_Non_Refund         78879 non-null  uint8  \n",
      " 56  DepositType_Refundable         78879 non-null  uint8  \n",
      " 57  CustomerType_Contract          78879 non-null  uint8  \n",
      " 58  CustomerType_Group             78879 non-null  uint8  \n",
      " 59  CustomerType_Transient         78879 non-null  uint8  \n",
      " 60  CustomerType_Transient-Party   78879 non-null  uint8  \n",
      "dtypes: float64(1), int64(19), uint8(41)\n",
      "memory usage: 15.1 MB\n"
     ]
    }
   ],
   "source": [
    "#verificando as colunas existentes em nosso dataframe, após o preprocessamento\n",
    "df_model.info()"
   ]
  },
  {
   "cell_type": "markdown",
   "metadata": {},
   "source": [
    "## Train Test Split\n",
    "Nossos dados já estão no formato apropriado para serem inputados no modelo.\n",
    "\n",
    "Antes do treinamento, separamos nosso conjunto de dados em conjunto de treinamento, validação e teste. Faremos um split de 60/20/20%, respectivamente.\n",
    "O objetivo do conjunto de validação é escolher o melhor entre os modelos que treinaremos. Já o conjunto de teste será usado uma única vez, ao final do projeto, para estimar a performance que nosso modelo terá em produção.\n",
    "\n",
    "Faremos um split estratificado. Ou seja, manteremos a mesma proporção de reservas canceladas em cada conjunto."
   ]
  },
  {
   "cell_type": "code",
   "execution_count": 6,
   "metadata": {},
   "outputs": [
    {
     "name": "stdout",
     "output_type": "stream",
     "text": [
      "Conjunto de treinamento: 47327 exemplos\n",
      "Conjunto de validação: 15776 exemplos\n",
      "Conjunto de teste: 15776 exemplos\n"
     ]
    }
   ],
   "source": [
    "#train test split\n",
    "from sklearn.model_selection import train_test_split\n",
    "\n",
    "#separando a variável dependente e as variáveis independentes\n",
    "y = df_model.IsCanceled\n",
    "X = df_model.drop('IsCanceled', axis=1)\n",
    "\n",
    "#separando o conjunto de treinamento\n",
    "X_train, X_test, y_train, y_test = train_test_split(X, y, test_size=0.40, random_state=101, stratify=y)\n",
    "\n",
    "#separando os conjuntos de teste e validação\n",
    "X_val, X_test, y_val, y_test = train_test_split(X_test, y_test, test_size=0.50, random_state=101, stratify=y_test)\n",
    "\n",
    "#tamanho de cada conjunto:\n",
    "print(f\"Conjunto de treinamento: {X_train.shape[0]} exemplos\")\n",
    "print(f\"Conjunto de validação: {X_val.shape[0]} exemplos\")\n",
    "print(f\"Conjunto de teste: {X_test.shape[0]} exemplos\")"
   ]
  },
  {
   "cell_type": "markdown",
   "metadata": {},
   "source": [
    "## Benchmark model\n",
    "Vamos treinar um modelo com os parâmetros default do XGBoost para termos uma base de performance.\n",
    "\n",
    "Escolhemos usar a métrica da área sob a curva do ROC (auc). Isso nos dará o modelo que tem melhor trade-off entre a precisão e o recall de cancelamentos.\n",
    "\n",
    "Usando nosos conjunto de validação, interromperemos o treinamento de novos previsores (árvores) quando não observarmos melhora de auc em 30 árvores seguidas."
   ]
  },
  {
   "cell_type": "code",
   "execution_count": 261,
   "metadata": {},
   "outputs": [
    {
     "name": "stdout",
     "output_type": "stream",
     "text": [
      "Métricas do modelo de benchmark:\n",
      "AUC: 0.946865\n",
      "Accuracy: 87.23%\n",
      "Recall: 82.54%\n",
      "Precision: 86.37%\n",
      "f1_score: 84.41%\n"
     ]
    }
   ],
   "source": [
    "#instanciando o modelo do xgboost para benchmark\n",
    "model = XGBClassifier(n_estimators=1000)\n",
    "\n",
    "#treinando o modelo de benchmark\n",
    "model.fit(X_train, y_train, early_stopping_rounds=30, eval_set=[(X_val, y_val)], eval_metric='auc', verbose=0)\n",
    "\n",
    "#fazendo previsões no conjunto de validação com o modelo de benchmark\n",
    "predictions = model.predict(X_val)\n",
    "\n",
    "#calculando e imprimindo as métricas do modelo de benchmark\n",
    "accuracy = accuracy_score(y_val, predictions)\n",
    "recall = recall_score(y_val, predictions)\n",
    "precision = precision_score(y_val, predictions)\n",
    "f1_scoree = f1_score(y_val, predictions)\n",
    "print(\"Métricas do modelo de benchmark:\")\n",
    "print(f\"AUC: {model.evals_result()['validation_0']['auc'][-1]}\")\n",
    "print(\"Accuracy: %.2f%%\" % (accuracy * 100.0))\n",
    "print(\"Recall: %.2f%%\" % (recall * 100.0))\n",
    "print(\"Precision: %.2f%%\" % (precision * 100.0))\n",
    "print(\"f1_score: %.2f%%\" % (f1_scoree * 100.0))"
   ]
  },
  {
   "cell_type": "markdown",
   "metadata": {},
   "source": [
    "Entre as reservas que foram canceladas em nosso conjunto de validação, o modelo de benchmark conseguiu prever corretamente 82.54% delas (recall).\n",
    "\n",
    "Mais abaixo, discutirei com profundidade o recall obtido pelo modelo, e tentarei otimizá-lo. Acredito que o recall tenha uma relevância grande para o projeto. Isso porque o recall mede o percentual de acertos do modelo nas reservas que são canceladas, de fato. E se o hotel sabe de antemão que uma reserva tem alta probabilidade de cancelamento, pode agir para evitar esse cancelamento (oferecendo algum benefício ao cliente, por exemplo). Isso tem um grande potencial de impacto no negócio, uma vez que, [como vimos](EDA.ipynb), 41% de todas as reservas são canceladas, em média.\n",
    "\n",
    "## Refinando o modelo\n",
    "Agora que já treinamos nosso modelo de benchmark, vamos procurar os valores dos hiperparâmetros do xgboost que otimizam nossa métrica de avaliação, o auc.\n",
    "\n",
    "A implementação do Gradient Boosting do XGBoosting possui vários parâmetros de treinamento, como por exemplo o learning_rate (coeficiente do resultado encontrado por cada árvore para o cálculo da previsão final) e max_depth (número máximo de camadas de cada árvore, que restringe a quantidade de splits que cada árvore faz). Esses parâmetros não são treináveis, i.e., devem ser informados manualmente ao algoritmo antes que ele realize o treinamento que irá determinar as especificações do modelo que fará a previsão de novos exemplos. Por isso, eles são chamados de hiperparâmetros.\n",
    "\n",
    "O processo de refinamento consiste em treinar diferentes modelos, que diferem pelos seus hiperparâmetros, e utilizar nosso conjunto de validação para verificar qual dos modelos faz a melhor previsão. Compararemos a qualidade dos modelos pela métrica do auc, conforme dito acima.\n",
    "\n",
    "As duas formas mais comuns de se testar diferentes conjuntos de hiperparâmetros são o \"grid search\" e o \"random search\". No primeiro, definimos um conjunto discreto de valores candidatos para cada hiperparâmetro, e treinamos modelos com todas as combinações possíveis entre os diferentes hiperparâmetros. No segundo, definimos intervalos de valores candidatos para cada hiperparâmetro, e selecionamos aleatoriamente, dentro de cada intervalo, os valores que serão utilizados em cada modelo.\n",
    "\n",
    "Uma terceira forma de fazer a busca por hiperparâmetros é o [Bayesian optimization](https://towardsdatascience.com/automated-machine-learning-hyperparameter-tuning-in-python-dfda59b72f8a). Nesse método, também sorteamos aleatoriamente valores para os hiperparâmetros. Mas, ao contrário do random search, onde a distribuição de probabilidades entre os valores possíveis é uniforme, o Bayesian optimization utiliza iterativamente os resultados que vão sendo obtidos para explorar mais intensamente os intervalos de valores mais promissores, para cada hiperparâmetro. Assim, a cada novo modelo treinado, é atualizada a distribuição de probabilidade dos valores associados a cada hiperparâmetro. A implementação do Bayesian optimization que utilizaremos aqui é a do pacote [hyperopt](https://github.com/hyperopt/hyperopt).\n",
    "\n",
    "Como o pacote [hyperopt](https://github.com/hyperopt/hyperopt) precisa de uma função para MINIMIZAR, vamos definí-la como 1 - auc. Assim, minimizando o auc, estamos maximizando o auc."
   ]
  },
  {
   "cell_type": "code",
   "execution_count": 169,
   "metadata": {},
   "outputs": [],
   "source": [
    "from hyperopt import STATUS_OK\n",
    "\n",
    "#definindo a função que treina o modelo e calcula a métrica de avaliação\n",
    "def objective(params):\n",
    "    \"\"\"Objective function for Gradient Boosting Machine Hyperparameter Tuning\"\"\"     \n",
    "    \n",
    "    #gerando o modelo\n",
    "    model = XGBClassifier(\n",
    "        n_estimators=1000,\n",
    "        learning_rate = params['learning_rate'],\n",
    "        gamma = params['gamma'],\n",
    "        max_depth = params['max_depth'],\n",
    "        min_child_weight = params['min_child_weight'],\n",
    "        reg_lambda = params['reg_lambda'],\n",
    "        reg_alpha = params['reg_alpha'],\n",
    "    )\n",
    "    \n",
    "    #treinando o modelo\n",
    "    model.fit(X_train, y_train, early_stopping_rounds=30, eval_set=[(X_val, y_val)], eval_metric='auc', verbose=0)\n",
    "    \n",
    "    #métrica de avaliação: 1 - ROC AUC\n",
    "    loss = 1 - model.evals_result()['validation_0']['auc'][-1]\n",
    "    \n",
    "    # dicionário com o resultado\n",
    "    return {'loss': loss, 'params': params, 'status': STATUS_OK}"
   ]
  },
  {
   "cell_type": "code",
   "execution_count": 205,
   "metadata": {},
   "outputs": [],
   "source": [
    "#Espaço de hiperparâmetros a ser explorado\n",
    "from hyperopt import hp\n",
    "\n",
    "space = {\n",
    "#    'boosting_type': hp.choice('boosting_type', [{'boosting_type': 'gbdt', 'subsample': hp.uniform('gdbt_subsample', 0.5, 1)}, \n",
    "#                                                 {'boosting_type': 'goss', 'subsample': 1.0}]),\n",
    "    'learning_rate': hp.loguniform('learning_rate', np.log(0.01), np.log(0.3)),\n",
    "    'gamma': hp.uniform('gamma', 0.0, 5.0),\n",
    "    'max_depth': hp.randint('max_depth', 5, 20),\n",
    "    'min_child_weight': hp.loguniform('min_child_weight', np.log(0.08), np.log(10)),\n",
    "    'reg_lambda': hp.uniform('reg_lambda', 0.0, 2.0),\n",
    "    'reg_alpha': hp.uniform('reg_alpha', 0.0, 2.0),\n",
    "}"
   ]
  },
  {
   "cell_type": "code",
   "execution_count": 253,
   "metadata": {},
   "outputs": [
    {
     "data": {
      "text/plain": [
       "{'gamma': 2.1602457808326743,\n",
       " 'learning_rate': 0.2802196181178618,\n",
       " 'max_depth': array(16),\n",
       " 'min_child_weight': 5.920776518774782,\n",
       " 'reg_alpha': 1.289599111321481,\n",
       " 'reg_lambda': 0.43225440411094906}"
      ]
     },
     "execution_count": 253,
     "metadata": {},
     "output_type": "execute_result"
    }
   ],
   "source": [
    "#testando o espaço de hiperparâmetros: sorteando um conjunto aleatório de hiperparâmetros\n",
    "from hyperopt.pyll.stochastic import sample\n",
    "\n",
    "example = sample(space)\n",
    "example"
   ]
  },
  {
   "cell_type": "code",
   "execution_count": 257,
   "metadata": {},
   "outputs": [
    {
     "name": "stdout",
     "output_type": "stream",
     "text": [
      " 99%|████████████████████████████████████████████▋| 121/122 [00:49<00:00,  2.44trial/s, best loss: 0.04821600000000004]\n"
     ]
    }
   ],
   "source": [
    "# Treinando os primeiros 50 modelos\n",
    "\n",
    "# Algoritmo\n",
    "from hyperopt import tpe\n",
    "tpe_algorithm = tpe.suggest\n",
    "\n",
    "\n",
    "# Objeto que registra o progresso\n",
    "from hyperopt import Trials\n",
    "bayes_trials = Trials()\n",
    "\n",
    "# Função que faz a busca\n",
    "from hyperopt import fmin\n",
    "\n",
    "# Rodando a busca\n",
    "best = fmin(fn = objective, space = space, algo = tpe.suggest, \n",
    "            max_evals = 50, trials = bayes_trials)"
   ]
  },
  {
   "cell_type": "code",
   "execution_count": 14,
   "metadata": {},
   "outputs": [
    {
     "name": "stdout",
     "output_type": "stream",
     "text": [
      "número de modelos já treinados: 320\n"
     ]
    }
   ],
   "source": [
    "#salvando/retomando a busca do hyperopt\n",
    "\n",
    "import pickle\n",
    "#salvando a busca\n",
    "#pickle.dump(bayes_trials, open(\"hyperopt_trials.p\", \"wb\"))\n",
    "\n",
    "#carregando a busca\n",
    "bayes_trials = pickle.load(open(\"hyperopt_trials.p\", \"rb\"))\n",
    "\n",
    "#quantos trials já foram rodados?\n",
    "print(f\"número de modelos já treinados: {len(bayes_trials.losses())}\")"
   ]
  },
  {
   "cell_type": "code",
   "execution_count": 266,
   "metadata": {},
   "outputs": [
    {
     "name": "stdout",
     "output_type": "stream",
     "text": [
      "100%|█████████████████████████████████████████▊| 319/320 [1:31:44<00:17, 17.26s/trial, best loss: 0.047996999999999956]\n"
     ]
    }
   ],
   "source": [
    "#reiniciando a busca\n",
    "\n",
    "best = fmin(fn = objective, space = space, algo = tpe.suggest, \n",
    "            max_evals = 320, trials = bayes_trials)"
   ]
  },
  {
   "cell_type": "markdown",
   "metadata": {},
   "source": [
    "É possível salvar o resultado parcial da busca e depois retomá-la, conforme fiz acima.\n",
    "\n",
    "A busca retorna o conjunto de hiperparâmetros que otimiza a métrica de avaliação. Abaixo, treinamos o modelo com o melhor conjunto de hiperparâmetros."
   ]
  },
  {
   "cell_type": "code",
   "execution_count": 15,
   "metadata": {},
   "outputs": [
    {
     "name": "stdout",
     "output_type": "stream",
     "text": [
      "auc do melhor modelo: 0.952003\n"
     ]
    }
   ],
   "source": [
    "#treinando o melhor modelo\n",
    "\n",
    "params = bayes_trials.best_trial['result']['params']\n",
    "\n",
    "\n",
    "model = XGBClassifier(\n",
    "        n_estimators=1000,\n",
    "        learning_rate = params['learning_rate'],\n",
    "        gamma = params['gamma'],\n",
    "        max_depth = params['max_depth'],\n",
    "        min_child_weight = params['min_child_weight'],\n",
    "        reg_lambda = params['reg_lambda'],\n",
    "        reg_alpha = params['reg_alpha'],\n",
    "    )\n",
    "\n",
    "model.fit(X_train, y_train, early_stopping_rounds=30, eval_set=[(X_val, y_val)], eval_metric='auc', verbose=0)\n",
    "\n",
    "#printando loss do melhor modelo\n",
    "auc = 1 - model.evals_result()['validation_0']['auc'][-1]\n",
    "print(f\"auc do melhor modelo: {1-auc}\")"
   ]
  },
  {
   "cell_type": "markdown",
   "metadata": {},
   "source": [
    "A busca bayesiana permitiu que refinássemos os hiperparâmetros, aumentando o auc de 0.9469 (modelo de benchmark) para 0.9520.\n",
    "\n",
    "Além disso, conforme vemos abaixo, nosso modelo refinado foi capaz de classificar corretamente 83.42% das reservas que foram canceladas em nosso conjunto de validação (recall), contra a marca de 82.54% do modelo de benchmark."
   ]
  },
  {
   "cell_type": "code",
   "execution_count": 16,
   "metadata": {},
   "outputs": [
    {
     "name": "stdout",
     "output_type": "stream",
     "text": [
      "Métricas do modelo refinado no conjunto de validação:\n",
      "Accuracy: 87.92%\n",
      "Recall: 83.42%\n",
      "Precision: 87.19%\n",
      "f1_score: 85.26%\n"
     ]
    }
   ],
   "source": [
    "#fazendo previsões no conjunto de validação com o modelo refinado\n",
    "predictions = model.predict(X_val)\n",
    "\n",
    "#calculando e imprimindo as métricas do modelo refinado\n",
    "accuracy = accuracy_score(y_val, predictions)\n",
    "recall = recall_score(y_val, predictions)\n",
    "precision = precision_score(y_val, predictions)\n",
    "f1_scoree = f1_score(y_val, predictions)\n",
    "print(\"Métricas do modelo refinado no conjunto de validação:\")\n",
    "print(\"Accuracy: %.2f%%\" % (accuracy * 100.0))\n",
    "print(\"Recall: %.2f%%\" % (recall * 100.0))\n",
    "print(\"Precision: %.2f%%\" % (precision * 100.0))\n",
    "print(\"f1_score: %.2f%%\" % (f1_scoree * 100.0))"
   ]
  },
  {
   "cell_type": "markdown",
   "metadata": {},
   "source": [
    "#### Avaliando overfitting\n",
    "Vemos abaixo que nosso modelo alcançou um f1_score de 96.62% no conjunto de treinamento, contra 85.26% no conjunto de validação. Isso aponta que nosso modelo tem um certo grau de overfitting, uma vez que sua performance é consideravelmente melhor nos pontos em que foi treinado. \n",
    "\n",
    "Para minimizar o overfitting podemos otimizar certos hiperparâmetros do XGBoosting com que ainda não trabalhamos, como o subsample. Outra estratégia para combater o problema é aumentar o tamanho de nosso conjunto de treinamento. Para isso, uma possibilidade é fazermos k-fold validation, ao invés de usar um conjunto separado para validação.\n",
    "\n",
    "Numa próxima etapa do projeto tentaremos minimizar esse overfitting. "
   ]
  },
  {
   "cell_type": "code",
   "execution_count": 18,
   "metadata": {},
   "outputs": [
    {
     "name": "stdout",
     "output_type": "stream",
     "text": [
      "Métricas do modelo refinado no conjunto de treinamento:\n",
      "Accuracy: 97.18%\n",
      "Recall: 96.20%\n",
      "Precision: 97.04%\n",
      "f1_score: 96.62%\n"
     ]
    }
   ],
   "source": [
    "#fazendo previsões no conjunto de treinamento com o modelo refinado\n",
    "predictions = model.predict(X_train)\n",
    "\n",
    "#calculando e imprimindo as métricas do modelo refinado\n",
    "accuracy = accuracy_score(y_train, predictions)\n",
    "recall = recall_score(y_train, predictions)\n",
    "precision = precision_score(y_train, predictions)\n",
    "f1_scoree = f1_score(y_train, predictions)\n",
    "print(\"Métricas do modelo refinado no conjunto de treinamento:\")\n",
    "print(\"Accuracy: %.2f%%\" % (accuracy * 100.0))\n",
    "print(\"Recall: %.2f%%\" % (recall * 100.0))\n",
    "print(\"Precision: %.2f%%\" % (precision * 100.0))\n",
    "print(\"f1_score: %.2f%%\" % (f1_scoree * 100.0))"
   ]
  },
  {
   "cell_type": "markdown",
   "metadata": {},
   "source": [
    "## Otimizando para o Recall\n",
    "Conforme discutido acima, acredito que o recall tenha uma relevância grande para o projeto. Isso porque o recall mede o percentual de acertos do modelo nas reservas que são canceladas, de fato. E se o hotel sabe de antemão que uma reserva tem alta probabilidade de cancelamento, pode agir para evitar esse cancelamento (oferecendo algum benefício ao cliente, por exemplo). Isso tem um grande potencial de impacto no negócio, uma vez que, [como vimos](EDA.ipynb), 41% de todas as reservas são canceladas, em média.\n",
    "\n",
    "Até agora, para que nosso modelo previsse que uma reserva seria cancelada, era necessário que a probabilidade de cancelamento calculada para essa reserva chegasse a 50%. Podemos otimizar o recall diminuindo esse threshold de probabilidade. Assim, por exemplo, uma reserva com 45% de probabilidade de cancelamento já seria prevista como cancelada por nosso modelo.\n",
    "\n",
    "Temos um trade-off, no entanto. Ao diminuir esse threshold, estaremos cometendo, com mais frequência, o erro de classificar como canceladas reservas que, de fato, não seriam canceladas. O impacto desse erro para o negócio é que o hotel oferecerá, com maior frequência, algum tipo de vantagem para clientes que não iriam cancelar suas reservas.\n",
    "\n",
    "Para avaliar o trade-off, plotaremos o precision e recall."
   ]
  },
  {
   "cell_type": "code",
   "execution_count": 80,
   "metadata": {},
   "outputs": [
    {
     "data": {
      "image/png": "[encoded data removed]",
      "text/plain": [
       "<Figure size 432x288 with 1 Axes>"
      ]
     },
     "metadata": {
      "needs_background": "light"
     },
     "output_type": "display_data"
    }
   ],
   "source": [
    "#fazendo as previsões da probabilidade de cancelamento no conjunto de validação\n",
    "predictions_proba = model.predict_proba(X_val)\n",
    "\n",
    "#colocando as probabilidades calculadas num dataframe\n",
    "pred_df = pd.DataFrame(predictions_proba, columns=['0', '1'])\n",
    "    \n",
    "#candidatos a thresholds\n",
    "thresholds_list = [i for i in np.arange(0.2, 0.5, 0.005)]\n",
    "    \n",
    "#dicionário para guardar os resultados\n",
    "results = {'threshold': [], 'recall': [], 'precision': [], 'f1_scoree': []}\n",
    "\n",
    "#calculando precision, recall e f1-score para diferentes thresholds e guardando o resultado num dicionário\n",
    "for threshold in thresholds_list:\n",
    "    #previsão para o threshold da vez\n",
    "    predictions = pred_df['1'].apply(lambda x: 1 if x > threshold else 0)\n",
    "    #calculando as métricas e guardando no dicionário de resultados\n",
    "    results['threshold'].append(threshold)\n",
    "    results['recall'].append(recall_score(y_val, predictions))\n",
    "    results['precision'].append(precision_score(y_val, predictions))\n",
    "    results['f1_scoree'].append(f1_score(y_val, predictions))\n",
    "    \n",
    "#plotando as métricas contra o threshold\n",
    "plt.scatter(y=results['f1_scoree'], x=results['threshold'], label='f1_score')\n",
    "plt.scatter(y=results['recall'], x=results['threshold'], label='recall')\n",
    "plt.scatter(y=results['precision'], x=results['threshold'], label='precision')\n",
    "\n",
    "plt.legend()\n",
    "plt.show()"
   ]
  },
  {
   "cell_type": "markdown",
   "metadata": {},
   "source": [
    "Como previsto, à medida que o recall aumenta, a precision diminui. Como estamos dando mais importância ao recall, conforme explicado acima, vou escolher o threshold de 0.25. Em outras palavras, toda vez que nosso modelo calcular que a probabilidade de uma reserva ser cancelada é maior que 25%, nossa previsão será de que aquela reserva será cancelada.\n",
    "\n",
    "Como podemos ver abaixo, o threshold de 25% dá, no conjunto de validação, um recall de 92.12% e uma precision de 77.33%.\n",
    "\n",
    "Isso significa que, sempre que uma reserva vai ser cancelada pelo cliente, nosso modelo consegue prever corretamente em 92.12% dos casos. Em contrapartida, de todas as vezes que nosso modelo diz que uma reserva será cancelada, ele acerta em 77.33% das vezes. Ou seja, em 22.66% das vezes que nosso modelo diz que uma reserva será cancelada, na verdade ela não é."
   ]
  },
  {
   "cell_type": "code",
   "execution_count": 90,
   "metadata": {},
   "outputs": [
    {
     "name": "stdout",
     "output_type": "stream",
     "text": [
      "Métricas com threshold de 25% no conjunto de validação:\n",
      "Accuracy: 49.84%\n",
      "Recall: 49.55%\n",
      "Precision: 41.69%\n",
      "f1_score: 45.28%\n"
     ]
    }
   ],
   "source": [
    "threshold = 0.25\n",
    "\n",
    "pred_df[\"final_pred\"] = pred_df['1'].apply(lambda x: 1 if x > threshold else 0)\n",
    "\n",
    "#fazendo previsões no conjunto de validação com o modelo refinado\n",
    "predictions = pred_df[\"final_pred\"]\n",
    "\n",
    "#calculando e imprimindo as métricas do modelo refinado\n",
    "accuracy = accuracy_score(y_val, predictions)\n",
    "recall = recall_score(y_val, predictions)\n",
    "precision = precision_score(y_val, predictions)\n",
    "f1_scoree = f1_score(y_val, predictions)\n",
    "print(\"Métricas com threshold de 25% no conjunto de validação:\")\n",
    "print(\"Accuracy: %.2f%%\" % (accuracy * 100.0))\n",
    "print(\"Recall: %.2f%%\" % (recall * 100.0))\n",
    "print(\"Precision: %.2f%%\" % (precision * 100.0))\n",
    "print(\"f1_score: %.2f%%\" % (f1_scoree * 100.0))"
   ]
  },
  {
   "cell_type": "markdown",
   "metadata": {},
   "source": [
    "## Estimando a acurácia do modelo em produção\n",
    "Para estimar o desempenho do nosso modelo em produção, vamos utilizar o conjunto de teste. Perceba que essa é a primeira vez que utilizamos o conjunto de teste na modelagem. Isso garante que nenhum hiperparâmetro foi selecionado para otimizar o modelo para esse conjunto.\n",
    "\n",
    "Os pontos que temos no conjunto de teste nunca foram vistos pelo modelo, de modo que seu desempenho nesse conjunto é uma medida mais acurada do desempenho que o modelo terá no mundo real, em produção.\n",
    "\n",
    "Vemos abaixo que o modelo teve um desempenho no conjunto de teste muito próximo daquele observado no conjunto de validação. Isso significa que nosso modelo generaliza bem para pontos inéditos, e nos dá maior confiança de usá-lo em produção.\n",
    "\n",
    "A estimativa final é que nosso consegue prever corretamente 92.03% das reservas que serão canceladas. Ao mesmo tempo, 22.56% das vezes que nosso modelo diz que uma reserva será cancelada, ele erra."
   ]
  },
  {
   "cell_type": "code",
   "execution_count": 89,
   "metadata": {},
   "outputs": [
    {
     "name": "stdout",
     "output_type": "stream",
     "text": [
      "Métricas no conjunto de teste:\n",
      "Accuracy: 85.43%\n",
      "Recall: 92.03%\n",
      "Precision: 77.44%\n",
      "f1_score: 84.11%\n"
     ]
    }
   ],
   "source": [
    "#test set\n",
    "\n",
    "predictions_proba = model.predict_proba(X_test)\n",
    "\n",
    "pred_df = pd.DataFrame(predictions_proba, columns=['0', '1'])\n",
    "\n",
    "threshold = 0.25\n",
    "\n",
    "pred_df[\"final_pred\"] = pred_df['1'].apply(lambda x: 1 if x > threshold else 0)\n",
    "\n",
    "#fazendo previsões no conjunto de validação com o modelo refinado\n",
    "predictions = pred_df[\"final_pred\"]\n",
    "\n",
    "#calculando e imprimindo as métricas do modelo refinado\n",
    "accuracy = accuracy_score(y_test, predictions)\n",
    "recall = recall_score(y_test, predictions)\n",
    "precision = precision_score(y_test, predictions)\n",
    "f1_scoree = f1_score(y_test, predictions)\n",
    "print(\"Métricas no conjunto de teste:\")\n",
    "print(\"Accuracy: %.2f%%\" % (accuracy * 100.0))\n",
    "print(\"Recall: %.2f%%\" % (recall * 100.0))\n",
    "print(\"Precision: %.2f%%\" % (precision * 100.0))\n",
    "print(\"f1_score: %.2f%%\" % (f1_scoree * 100.0))"
   ]
  },
  {
   "cell_type": "code",
   "execution_count": 10,
   "metadata": {},
   "outputs": [
    {
     "data": {
      "text/plain": [
       "['xgboost_model.joblib']"
      ]
     },
     "execution_count": 10,
     "metadata": {},
     "output_type": "execute_result"
    }
   ],
   "source": [
    "#salvando o modelo\n",
    "from joblib import dump\n",
    "\n",
    "dump(model, 'xgboost_model.joblib')"
   ]
  },
  {
   "cell_type": "code",
   "execution_count": 19,
   "metadata": {},
   "outputs": [],
   "source": [
    "#salvando o X_train\n",
    "X_train.to_csv('X_train.csv', index=False)\n",
    "\n",
    "y_train.to_csv('y_train.csv', index=False)"
   ]
  }
 ],
 "metadata": {
  "kernelspec": {
   "display_name": "Python 3",
   "language": "python",
   "name": "python3"
  },
  "language_info": {
   "codemirror_mode": {
    "name": "ipython",
    "version": 3
   },
   "file_extension": ".py",
   "mimetype": "text/x-python",
   "name": "python",
   "nbconvert_exporter": "python",
   "pygments_lexer": "ipython3",
   "version": "3.7.6"
  }
 },
 "nbformat": 4,
 "nbformat_minor": 4
}
