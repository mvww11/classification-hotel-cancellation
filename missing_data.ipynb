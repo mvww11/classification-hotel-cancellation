{
 "cells": [
  {
   "cell_type": "markdown",
   "metadata": {},
   "source": [
    "# Missing Data\n",
    "Nosso dataset contém dados sobre reservas feitas em um hotel localizado na cidade de Lisboa, Portugal, entre os anos de 2015 e 2017.\n",
    "\n",
    "Nosso objetivo é prever se a reserva será cancelada."
   ]
  },
  {
   "cell_type": "markdown",
   "metadata": {},
   "source": [
    "Ideia de feature engineering:\n",
    "-é de portugal?\n",
    "-é da europa?"
   ]
  },
  {
   "cell_type": "code",
   "execution_count": 26,
   "metadata": {},
   "outputs": [
    {
     "name": "stdout",
     "output_type": "stream",
     "text": [
      "<class 'pandas.core.frame.DataFrame'>\n",
      "RangeIndex: 79330 entries, 0 to 79329\n",
      "Data columns (total 31 columns):\n",
      " #   Column                       Non-Null Count  Dtype  \n",
      "---  ------                       --------------  -----  \n",
      " 0   IsCanceled                   79330 non-null  int64  \n",
      " 1   LeadTime                     79330 non-null  int64  \n",
      " 2   ArrivalDateYear              79330 non-null  int64  \n",
      " 3   ArrivalDateMonth             79330 non-null  object \n",
      " 4   ArrivalDateWeekNumber        79330 non-null  int64  \n",
      " 5   ArrivalDateDayOfMonth        79330 non-null  int64  \n",
      " 6   StaysInWeekendNights         79330 non-null  int64  \n",
      " 7   StaysInWeekNights            79330 non-null  int64  \n",
      " 8   Adults                       79330 non-null  int64  \n",
      " 9   Children                     79326 non-null  float64\n",
      " 10  Babies                       79330 non-null  int64  \n",
      " 11  Meal                         79330 non-null  object \n",
      " 12  Country                      79306 non-null  object \n",
      " 13  MarketSegment                79330 non-null  object \n",
      " 14  DistributionChannel          79330 non-null  object \n",
      " 15  IsRepeatedGuest              79330 non-null  int64  \n",
      " 16  PreviousCancellations        79330 non-null  int64  \n",
      " 17  PreviousBookingsNotCanceled  79330 non-null  int64  \n",
      " 18  ReservedRoomType             79330 non-null  object \n",
      " 19  AssignedRoomType             79330 non-null  object \n",
      " 20  BookingChanges               79330 non-null  int64  \n",
      " 21  DepositType                  79330 non-null  object \n",
      " 22  Agent                        79330 non-null  object \n",
      " 23  Company                      79330 non-null  object \n",
      " 24  DaysInWaitingList            79330 non-null  int64  \n",
      " 25  CustomerType                 79330 non-null  object \n",
      " 26  ADR                          79330 non-null  float64\n",
      " 27  RequiredCarParkingSpaces     79330 non-null  int64  \n",
      " 28  TotalOfSpecialRequests       79330 non-null  int64  \n",
      " 29  ReservationStatus            79330 non-null  object \n",
      " 30  ReservationStatusDate        79330 non-null  object \n",
      "dtypes: float64(2), int64(16), object(13)\n",
      "memory usage: 18.8+ MB\n"
     ]
    }
   ],
   "source": [
    "#fonte dos dados: https://www.sciencedirect.com/science/article/pii/S2352340918315191\n",
    "#fonte dos dados: https://github.com/rfordatascience/tidytuesday/tree/master/data/2020/2020-02-11\n",
    "\n",
    "#importando as bibliotecas:\n",
    "import pandas as pd\n",
    "import numpy as np\n",
    "\n",
    "#importando os dados:\n",
    "df = pd.read_csv('H2.txt')\n",
    "\n",
    "#printando um resumo dos dados:\n",
    "df.info()"
   ]
  },
  {
   "cell_type": "markdown",
   "metadata": {},
   "source": [
    "### Dicionário de dados\n",
    "\n",
    "|variable                       |class     |description |\n",
    "|:------------------------------|:---------|:-----------|\n",
    "|is_canceled                    |double    | Value indicating if the booking was canceled (1) or not (0) |\n",
    "|lead_time                      |double    | Number of days that elapsed between the entering date of the booking into the PMS and the arrival date |\n",
    "|arrival_date_year              |double    | Year of arrival date|\n",
    "|arrival_date_month             |character | Month of arrival date|\n",
    "|arrival_date_week_number       |double    | Week number of year for arrival date|\n",
    "|arrival_date_day_of_month      |double    | Day of arrival date|\n",
    "|stays_in_weekend_nights        |double    | Number of weekend nights (Saturday or Sunday) the guest stayed or booked to stay at the hotel |\n",
    "|stays_in_week_nights           |double    |  Number of week nights (Monday to Friday) the guest stayed or booked to stay at the hotel|\n",
    "|adults                         |double    | Number of adults|\n",
    "|children                       |double    | Number of children|\n",
    "|babies                         |double    |Number of babies |\n",
    "|meal                           |character | Type of meal booked. Categories are presented in standard hospitality meal packages: <br> Undefined/SC – no meal package;<br>BB – Bed & Breakfast; <br> HB – Half board (breakfast and one other meal – usually dinner); <br> FB – Full board (breakfast, lunch and dinner) |\n",
    "|country                        |character | Country of origin. Categories are represented in the ISO 3155–3:2013 format |\n",
    "|market_segment                 |character | Market segment designation. In categories, the term “TA” means “Travel Agents” and “TO” means “Tour Operators” |\n",
    "|distribution_channel           |character | Booking distribution channel. The term “TA” means “Travel Agents” and “TO” means “Tour Operators” |\n",
    "|is_repeated_guest              |double    | Value indicating if the booking name was from a repeated guest (1) or not (0) |\n",
    "|previous_cancellations         |double    | Number of previous bookings that were cancelled by the customer prior to the current booking |\n",
    "|previous_bookings_not_canceled |double    | Number of previous bookings not cancelled by the customer prior to the current booking |\n",
    "|reserved_room_type             |character | Code of room type reserved. Code is presented instead of designation for anonymity reasons |\n",
    "|assigned_room_type             |character | Code for the type of room assigned to the booking. Sometimes the assigned room type differs from the reserved room type due to hotel operation reasons (e.g. overbooking) or by customer request. Code is presented instead of designation for anonymity reasons |\n",
    "|booking_changes                |double    | Number of changes/amendments made to the booking from the moment the booking was entered on the PMS until the moment of check-in or cancellation|\n",
    "|deposit_type                   |character | Indication on if the customer made a deposit to guarantee the booking. This variable can assume three categories:<br>No Deposit – no deposit was made;<br>Non Refund – a deposit was made in the value of the total stay cost;<br>Refundable – a deposit was made with a value under the total cost of stay. |\n",
    "|agent                          |character | ID of the travel agency that made the booking |\n",
    "|company                        |character | ID of the company/entity that made the booking or responsible for paying the booking. ID is presented instead of designation for anonymity reasons |\n",
    "|days_in_waiting_list           |double    | Number of days the booking was in the waiting list before it was confirmed to the customer |\n",
    "|customer_type                  |character | Type of booking, assuming one of four categories:<br>Contract - when the booking has an allotment or other type of contract associated to it;<br>Group – when the booking is associated to a group;<br>Transient – when the booking is not part of a group or contract, and is not associated to other transient booking;<br>Transient-party – when the booking is transient, but is associated to at least other transient booking|\n",
    "|adr                            |double    | Average Daily Rate as defined by dividing the sum of all lodging transactions by the total number of staying nights |\n",
    "|required_car_parking_spaces    |double    | Number of car parking spaces required by the customer |\n",
    "|total_of_special_requests      |double    | Number of special requests made by the customer (e.g. twin bed or high floor)|\n",
    "|reservation_status             |character | Reservation last status, assuming one of three categories:<br>Canceled – booking was canceled by the customer;<br>Check-Out – customer has checked in but already departed;<br>No-Show – customer did not check-in and did inform the hotel of the reason why |\n",
    "|reservation_status_date        |double    | Date at which the last status was set. This variable can be used in conjunction with the ReservationStatus to understand when was the booking canceled or when did the customer checked-out of the hotel|\n",
    "\n",
    "fonte: dicionário adaptado do repo que contém o dataset, https://github.com/rfordatascience/tidytuesday/tree/master/data/2020/2020-02-11"
   ]
  },
  {
   "cell_type": "markdown",
   "metadata": {},
   "source": [
    "Temos 79330 data points e 31 colunas diferentes. Vamos ver quantos data points são nulos, em cada coluna:"
   ]
  },
  {
   "cell_type": "code",
   "execution_count": 27,
   "metadata": {},
   "outputs": [
    {
     "data": {
      "text/plain": [
       "IsCanceled                      0\n",
       "LeadTime                        0\n",
       "ArrivalDateYear                 0\n",
       "ArrivalDateMonth                0\n",
       "ArrivalDateWeekNumber           0\n",
       "ArrivalDateDayOfMonth           0\n",
       "StaysInWeekendNights            0\n",
       "StaysInWeekNights               0\n",
       "Adults                          0\n",
       "Children                        4\n",
       "Babies                          0\n",
       "Meal                            0\n",
       "Country                        24\n",
       "MarketSegment                   0\n",
       "DistributionChannel             0\n",
       "IsRepeatedGuest                 0\n",
       "PreviousCancellations           0\n",
       "PreviousBookingsNotCanceled     0\n",
       "ReservedRoomType                0\n",
       "AssignedRoomType                0\n",
       "BookingChanges                  0\n",
       "DepositType                     0\n",
       "Agent                           0\n",
       "Company                         0\n",
       "DaysInWaitingList               0\n",
       "CustomerType                    0\n",
       "ADR                             0\n",
       "RequiredCarParkingSpaces        0\n",
       "TotalOfSpecialRequests          0\n",
       "ReservationStatus               0\n",
       "ReservationStatusDate           0\n",
       "dtype: int64"
      ]
     },
     "execution_count": 27,
     "metadata": {},
     "output_type": "execute_result"
    }
   ],
   "source": [
    "#printando a quantidade de dados nulos em cada coluna\n",
    "df.isna().sum()"
   ]
  },
  {
   "cell_type": "markdown",
   "metadata": {},
   "source": [
    "Temos 4 dados nulos na coluna Children, e 24 nulos em Country. Como representam uma fração muito pequena da quantidade total de dados, vamos eliminar esses data points.\n",
    "\n",
    "Em seguida, vamos analisar os valores únicos de cada uma das colunas para ver se encontramos missing data."
   ]
  },
  {
   "cell_type": "code",
   "execution_count": 28,
   "metadata": {},
   "outputs": [
    {
     "name": "stdout",
     "output_type": "stream",
     "text": [
      "IsCanceled: [0, 1]\n",
      "LeadTime: [0, 1, 2, 3, 4, 5, 6, 7, 8, 9, 10, 11, 12, 13, 14, 15, 16, 17, 18, 19, 20, 21, 22, 23, 24, 25, 26, 27, 28, 29, 30, 31, 32, 33, 34, 35, 36, 37, 38, 39, 40, 41, 42, 43, 44, 45, 46, 47, 48, 49, 50, 51, 52, 53, 54, 55, 56, 57, 58, 59, 60, 61, 62, 63, 64, 65, 66, 67, 68, 69, 70, 71, 72, 73, 74, 75, 76, 77, 78, 79, 80, 81, 82, 83, 84, 85, 86, 87, 88, 89, 90, 91, 92, 93, 94, 95, 96, 97, 98, 99, 100, 101, 102, 103, 104, 105, 106, 107, 108, 109, 110, 111, 112, 113, 114, 115, 116, 117, 118, 119, 120, 121, 122, 123, 124, 125, 126, 127, 128, 129, 130, 131, 132, 133, 134, 135, 136, 137, 138, 139, 140, 141, 142, 143, 144, 145, 146, 147, 148, 149, 150, 151, 152, 153, 154, 155, 156, 157, 158, 159, 160, 161, 162, 163, 164, 165, 166, 167, 168, 169, 170, 171, 172, 173, 174, 175, 176, 177, 178, 179, 180, 181, 182, 183, 184, 185, 186, 187, 188, 189, 190, 191, 192, 193, 194, 195, 196, 197, 198, 199, 200, 201, 202, 203, 204, 205, 206, 207, 208, 209, 210, 211, 212, 213, 214, 215, 216, 217, 218, 219, 220, 221, 222, 223, 224, 225, 226, 227, 228, 229, 230, 231, 232, 233, 234, 235, 236, 237, 238, 239, 240, 241, 242, 243, 244, 245, 246, 247, 248, 249, 250, 251, 252, 253, 254, 255, 256, 257, 258, 259, 260, 261, 262, 263, 264, 265, 266, 267, 268, 269, 270, 271, 272, 273, 274, 275, 276, 277, 278, 279, 280, 281, 282, 283, 284, 285, 286, 287, 288, 289, 290, 291, 292, 293, 294, 295, 296, 297, 298, 299, 300, 301, 302, 303, 304, 305, 306, 307, 308, 309, 310, 311, 312, 313, 314, 315, 316, 317, 318, 319, 320, 321, 322, 323, 324, 325, 326, 327, 328, 329, 330, 331, 332, 333, 334, 335, 336, 337, 338, 339, 340, 341, 342, 343, 344, 345, 346, 347, 348, 349, 350, 351, 352, 353, 354, 355, 356, 357, 358, 359, 360, 361, 363, 364, 365, 366, 367, 368, 372, 373, 374, 377, 379, 380, 381, 384, 386, 387, 389, 391, 393, 394, 395, 396, 398, 405, 407, 408, 409, 410, 412, 414, 418, 419, 420, 422, 423, 426, 429, 433, 434, 437, 440, 443, 444, 447, 448, 450, 451, 454, 457, 458, 461, 462, 463, 464, 465, 467, 468, 475, 476, 478, 479, 482, 489, 490, 493, 496, 503, 504, 507, 510, 517, 518, 521, 524, 531, 538, 545, 552, 559, 566, 573, 580, 587, 594, 601, 605, 608, 615, 622, 626, 629]\n",
      "ArrivalDateYear: [2015, 2016, 2017]\n",
      "ArrivalDateMonth: ['April', 'August', 'December', 'February', 'January', 'July', 'June', 'March', 'May', 'November', 'October', 'September']\n",
      "ArrivalDateWeekNumber: [1, 2, 3, 4, 5, 6, 7, 8, 9, 10, 11, 12, 13, 14, 15, 16, 17, 18, 19, 20, 21, 22, 23, 24, 25, 26, 27, 28, 29, 30, 31, 32, 33, 34, 35, 36, 37, 38, 39, 40, 41, 42, 43, 44, 45, 46, 47, 48, 49, 50, 51, 52, 53]\n",
      "ArrivalDateDayOfMonth: [1, 2, 3, 4, 5, 6, 7, 8, 9, 10, 11, 12, 13, 14, 15, 16, 17, 18, 19, 20, 21, 22, 23, 24, 25, 26, 27, 28, 29, 30, 31]\n",
      "StaysInWeekendNights: [0, 1, 2, 3, 4, 5, 6, 7, 8, 9, 10, 13, 14, 16]\n",
      "StaysInWeekNights: [0, 1, 2, 3, 4, 5, 6, 7, 8, 9, 10, 11, 12, 13, 14, 15, 16, 17, 18, 19, 20, 21, 22, 24, 25, 30, 34, 35, 41]\n",
      "Adults: [0, 1, 2, 3, 4]\n",
      "Children: [0.0, 1.0, 2.0, 3.0]\n",
      "Babies: [0, 1, 2, 9, 10]\n",
      "Meal: ['BB', 'FB', 'HB', 'SC']\n",
      "Country: ['ABW', 'AGO', 'AIA', 'ALB', 'AND', 'ARE', 'ARG', 'ARM', 'ASM', 'ATA', 'ATF', 'AUS', 'AUT', 'AZE', 'BEL', 'BEN', 'BFA', 'BGD', 'BGR', 'BHR', 'BIH', 'BLR', 'BOL', 'BRA', 'BRB', 'CAF', 'CHE', 'CHL', 'CHN', 'CIV', 'CMR', 'CN', 'COL', 'COM', 'CPV', 'CRI', 'CUB', 'CYP', 'CZE', 'DEU', 'DMA', 'DNK', 'DOM', 'DZA', 'ECU', 'EGY', 'ESP', 'EST', 'ETH', 'FIN', 'FRA', 'FRO', 'GAB', 'GBR', 'GEO', 'GGY', 'GHA', 'GIB', 'GLP', 'GNB', 'GRC', 'GTM', 'GUY', 'HKG', 'HND', 'HRV', 'HUN', 'IDN', 'IMN', 'IND', 'IRL', 'IRN', 'IRQ', 'ISL', 'ISR', 'ITA', 'JAM', 'JEY', 'JOR', 'JPN', 'KAZ', 'KEN', 'KHM', 'KIR', 'KNA', 'KOR', 'KWT', 'LAO', 'LBN', 'LBY', 'LCA', 'LIE', 'LKA', 'LTU', 'LUX', 'LVA', 'MAC', 'MAR', 'MCO', 'MDV', 'MEX', 'MKD', 'MLI', 'MLT', 'MMR', 'MNE', 'MOZ', 'MRT', 'MUS', 'MYS', 'MYT', 'NAM', 'NCL', 'NGA', 'NIC', 'NLD', 'NOR', 'NZL', 'OMN', 'PAK', 'PAN', 'PER', 'PHL', 'POL', 'PRI', 'PRT', 'PRY', 'PYF', 'QAT', 'ROU', 'RUS', 'RWA', 'SAU', 'SDN', 'SEN', 'SGP', 'SLE', 'SLV', 'SRB', 'STP', 'SUR', 'SVK', 'SVN', 'SWE', 'SYC', 'SYR', 'TGO', 'THA', 'TJK', 'TMP', 'TUN', 'TUR', 'TWN', 'TZA', 'UGA', 'UKR', 'UMI', 'URY', 'USA', 'UZB', 'VEN', 'VGB', 'VNM', 'ZAF', 'ZMB', 'ZWE']\n",
      "MarketSegment: ['Aviation', 'Complementary', 'Corporate', 'Direct', 'Groups', 'Offline TA/TO', 'Online TA']\n",
      "DistributionChannel: ['Corporate', 'Direct', 'GDS', 'TA/TO']\n",
      "IsRepeatedGuest: [0, 1]\n",
      "PreviousCancellations: [0, 1, 2, 3, 4, 5, 6, 11, 13, 21]\n",
      "PreviousBookingsNotCanceled: [0, 1, 2, 3, 4, 5, 6, 7, 8, 9, 10, 11, 12, 13, 14, 15, 16, 17, 18, 19, 20, 21, 22, 23, 24, 25, 26, 27, 28, 29, 30, 31, 32, 33, 34, 35, 36, 37, 38, 39, 40, 41, 42, 43, 44, 45, 46, 47, 48, 49, 50, 51, 52, 53, 54, 55, 56, 57, 58, 59, 60, 61, 62, 63, 64, 65, 66, 67, 68, 69, 70, 71, 72]\n",
      "ReservedRoomType: ['A', 'B', 'C', 'D', 'E', 'F', 'G', 'P']\n",
      "AssignedRoomType: ['A', 'B', 'C', 'D', 'E', 'F', 'G', 'K', 'P']\n",
      "BookingChanges: [0, 1, 2, 3, 4, 5, 6, 7, 8, 9, 10, 11, 12, 13, 14, 15, 16, 17, 18, 20, 21]\n",
      "DepositType: ['No Deposit', 'Non Refund', 'Refundable']\n",
      "Agent: ['1', '10', '103', '104', '106', '107', '11', '111', '112', '117', '118', '119', '12', '121', '122', '128', '129', '13', '132', '133', '134', '138', '14', '141', '144', '147', '148', '15', '150', '151', '152', '153', '154', '155', '157', '158', '159', '16', '162', '167', '168', '17', '170', '171', '173', '174', '177', '179', '180', '182', '187', '19', '191', '192', '193', '195', '196', '197', '2', '20', '205', '21', '210', '211', '213', '214', '215', '216', '219', '22', '220', '227', '229', '23', '232', '234', '235', '236', '24', '240', '242', '247', '25', '250', '252', '254', '256', '26', '262', '265', '267', '269', '27', '270', '276', '278', '28', '280', '281', '283', '285', '286', '287', '288', '289', '29', '290', '294', '295', '296', '299', '3', '30', '303', '306', '31', '310', '315', '32', '323', '325', '326', '327', '33', '330', '331', '335', '34', '341', '344', '346', '35', '354', '355', '359', '36', '364', '37', '370', '371', '375', '378', '38', '388', '39', '390', '391', '394', '397', '4', '40', '403', '404', '408', '41', '416', '42', '423', '425', '427', '436', '44', '441', '444', '449', '45', '453', '455', '459', '461', '464', '467', '47', '474', '475', '476', '480', '484', '495', '5', '50', '509', '52', '53', '54', '55', '56', '57', '58', '6', '60', '61', '63', '64', '66', '69', '7', '70', '71', '72', '73', '74', '75', '77', '78', '79', '8', '81', '82', '83', '85', '86', '87', '89', '9', '90', '91', '92', '93', '94', '95', '98', '99', 'NULL']\n",
      "Company: ['100', '101', '105', '106', '107', '108', '11', '110', '115', '116', '120', '122', '127', '130', '132', '135', '137', '139', '14', '140', '142', '143', '144', '148', '149', '150', '153', '158', '160', '163', '169', '174', '179', '18', '180', '183', '185', '186', '193', '197', '202', '203', '207', '209', '210', '213', '215', '216', '217', '218', '219', '220', '221', '222', '224', '227', '229', '230', '233', '234', '237', '238', '242', '243', '245', '246', '251', '253', '254', '255', '257', '258', '259', '260', '263', '264', '271', '272', '273', '275', '277', '278', '280', '282', '284', '288', '290', '292', '293', '301', '304', '305', '307', '308', '309', '311', '312', '313', '314', '316', '317', '319', '320', '321', '329', '330', '331', '332', '333', '334', '341', '348', '349', '35', '350', '351', '352', '356', '357', '358', '360', '361', '362', '365', '366', '367', '368', '369', '37', '372', '377', '379', '38', '383', '384', '385', '393', '395', '396', '40', '400', '405', '407', '408', '409', '410', '411', '412', '417', '418', '420', '421', '424', '426', '428', '429', '43', '433', '435', '439', '443', '444', '445', '446', '448', '45', '450', '451', '452', '46', '460', '465', '466', '47', '477', '478', '479', '48', '481', '483', '485', '486', '489', '49', '491', '492', '494', '497', '51', '62', '65', '67', '68', '71', '72', '73', '76', '78', '8', '81', '84', '85', '9', '91', '93', '96', 'NULL']\n",
      "DaysInWaitingList: [0, 1, 2, 3, 4, 5, 6, 7, 8, 9, 10, 11, 12, 13, 14, 15, 16, 17, 18, 19, 20, 21, 22, 23, 24, 25, 26, 27, 28, 30, 31, 32, 33, 34, 35, 36, 38, 39, 40, 41, 42, 43, 44, 45, 46, 47, 48, 49, 50, 53, 54, 55, 56, 57, 58, 59, 60, 61, 62, 63, 65, 68, 69, 70, 71, 72, 73, 74, 75, 76, 77, 79, 80, 81, 83, 84, 85, 87, 89, 91, 92, 93, 96, 98, 99, 100, 101, 105, 107, 108, 111, 113, 117, 120, 147, 160, 162, 165, 167, 174, 175, 176, 178, 183, 187, 193, 207, 215, 223, 224, 236, 259, 330, 379, 391]\n",
      "CustomerType: ['Contract', 'Group', 'Transient', 'Transient-Party']\n",
      "RequiredCarParkingSpaces: [0, 1, 2, 3]\n",
      "TotalOfSpecialRequests: [0, 1, 2, 3, 4, 5]\n",
      "ReservationStatus: ['Canceled', 'Check-Out', 'No-Show']\n"
     ]
    }
   ],
   "source": [
    "#eliminando os valores nulos\n",
    "df.dropna(inplace=True)\n",
    "\n",
    "#printando os valores únicos de cada coluna, exceto nas colunas ADR e ReservationStatusDate (pois poluiriam visualmente o notebook, pois são muito longas. Vou analisá-las separadamente, em off)\n",
    "for col in df.drop(['ADR', 'ReservationStatusDate'], axis=1).columns:\n",
    "    try:\n",
    "        #algumas colunas possuem valores que têm vários 'espaços' como prefixos. vamos eliminar esses espaços\n",
    "        df[col] = df[col].apply(lambda x: x.strip(' '))\n",
    "    except:\n",
    "        pass\n",
    "    try:\n",
    "        print(f\"{col}: {sorted(df[col].unique())}\")\n",
    "    except:\n",
    "        try:\n",
    "            print(f\"{col}: {df[col].unique()}\")\n",
    "        except:\n",
    "            print(f\"ERRO: {col}\")\n",
    "        "
   ]
  },
  {
   "cell_type": "markdown",
   "metadata": {},
   "source": [
    "Pela análise dos valores únicos de cada coluna, mostrado acima, vemos que as colunas Agent e Company possuem valores NULL que não foram lidos como nulos, pois estão em formato de string. Vemos abaixo quantos são:"
   ]
  },
  {
   "cell_type": "code",
   "execution_count": 29,
   "metadata": {},
   "outputs": [
    {
     "name": "stdout",
     "output_type": "stream",
     "text": [
      "valores nulos em Agent: 8121\n",
      "valores nulos em Company: 75621\n"
     ]
    }
   ],
   "source": [
    "#quantidade de valores nulos em cada coluna\n",
    "print(f\"valores nulos em Agent: {df.Agent.value_counts().loc['NULL']}\")\n",
    "print(f\"valores nulos em Company: {df.Company.value_counts().loc['NULL']}\")"
   ]
  },
  {
   "cell_type": "markdown",
   "metadata": {},
   "source": [
    "Como temos mais de 90% de dados nulos em Company, vamos eliminar essa coluna.\n",
    "\n",
    "Em Agent, temos cerca de 10% de dados nulos. Manteremos, por enquanto, essa coluna, já que pretendo usar um modelo de Gradient Boosting que é capaz de trabalhar com dados nulos (e.g. xgboost, lightgbm)\n",
    "\n",
    "Em seguida, vamos verificar se as colunas que possuem valores numéricos estão com datatype correto (e não de string, por exemplo)."
   ]
  },
  {
   "cell_type": "code",
   "execution_count": 30,
   "metadata": {},
   "outputs": [],
   "source": [
    "#eliminando a coluna Company\n",
    "df.drop('Company', axis=1, inplace=True)"
   ]
  },
  {
   "cell_type": "markdown",
   "metadata": {},
   "source": [
    "## Outros missing data\n",
    "Durante a análise, percebi que existem 324 reservas no dataset que não possuem nenhum dia de hospedagem. Para essas reservas, o custo médio diário foi de 0. Entretanto, 308 delas possuem status de Check-Out.\n",
    "\n",
    "Não é possível que o hóspede tenha feito a reserva (e o check-out!) sem indicar o dia que ficaria hospedado. Desse modo, suspeito que exista algum erro nesses data points. Por isso, vou eliminá-los da análise."
   ]
  },
  {
   "cell_type": "code",
   "execution_count": 31,
   "metadata": {},
   "outputs": [
    {
     "data": {
      "text/plain": [
       "Check-Out    308\n",
       "Canceled       9\n",
       "No-Show        7\n",
       "Name: ReservationStatus, dtype: int64"
      ]
     },
     "execution_count": 31,
     "metadata": {},
     "output_type": "execute_result"
    }
   ],
   "source": [
    "#existem reservas que não possuem nenhum dia de semana nem de final de semana\n",
    "#mas o status da maioria delas está como Check-Out\n",
    "df[(df.StaysInWeekNights == 0) & (df.StaysInWeekendNights == 0)].ReservationStatus.value_counts()"
   ]
  },
  {
   "cell_type": "code",
   "execution_count": 32,
   "metadata": {},
   "outputs": [
    {
     "data": {
      "text/plain": [
       "0.0    324\n",
       "Name: ADR, dtype: int64"
      ]
     },
     "execution_count": 32,
     "metadata": {},
     "output_type": "execute_result"
    }
   ],
   "source": [
    "#As reservas que não possuem nenhum dia de semana nem de final de semana têm custo diário médio de 0\n",
    "df[(df.StaysInWeekNights == 0) & (df.StaysInWeekendNights == 0)].ADR.value_counts()"
   ]
  },
  {
   "cell_type": "code",
   "execution_count": 33,
   "metadata": {},
   "outputs": [],
   "source": [
    "#eliminando as reservas que não possuem nenhum dia associado\n",
    "\n",
    "#lista de índices dos data points a serem eliminados\n",
    "index_list_to_delete = df[(df.StaysInWeekNights == 0) & (df.StaysInWeekendNights == 0)].index\n",
    "\n",
    "#eliminando esses data points\n",
    "df.drop(index_list_to_delete, inplace=True)"
   ]
  },
  {
   "cell_type": "markdown",
   "metadata": {},
   "source": [
    "Outra coisa que percebi é que existem 99 reservas que não possuem adulto, criança ou bebê associado a ela (ou seja, nenhuma pessoa). Como não é possível que isso aconteça, acredito que seja um erro e vou eliminar essas reservas da análise."
   ]
  },
  {
   "cell_type": "code",
   "execution_count": 34,
   "metadata": {},
   "outputs": [
    {
     "name": "stdout",
     "output_type": "stream",
     "text": [
      "reservas sem qualquer pessoa associada: 99\n"
     ]
    }
   ],
   "source": [
    "#df só com as reservas em que não há pessoas associadas (nenhum adulto, criança ou bebê)\n",
    "nobody_df = df[(df.Adults == 0) & (df.Children == 0) & (df.Babies == 0)]\n",
    "\n",
    "print(f'reservas sem qualquer pessoa associada: {len(nobody_df.index)}')\n",
    "\n",
    "#eliminando esses elementos do df\n",
    "index_list_to_delete = nobody_df.index\n",
    "df.drop(index_list_to_delete, inplace=True)"
   ]
  },
  {
   "cell_type": "markdown",
   "metadata": {},
   "source": [
    "# Data Types\n",
    "Abaixo verificamos que nenhuma coluna numérica está com o datatype de string."
   ]
  },
  {
   "cell_type": "code",
   "execution_count": 35,
   "metadata": {},
   "outputs": [
    {
     "name": "stdout",
     "output_type": "stream",
     "text": [
      "<class 'pandas.core.frame.DataFrame'>\n",
      "Int64Index: 78879 entries, 0 to 79329\n",
      "Data columns (total 30 columns):\n",
      " #   Column                       Non-Null Count  Dtype  \n",
      "---  ------                       --------------  -----  \n",
      " 0   IsCanceled                   78879 non-null  int64  \n",
      " 1   LeadTime                     78879 non-null  int64  \n",
      " 2   ArrivalDateYear              78879 non-null  int64  \n",
      " 3   ArrivalDateMonth             78879 non-null  object \n",
      " 4   ArrivalDateWeekNumber        78879 non-null  int64  \n",
      " 5   ArrivalDateDayOfMonth        78879 non-null  int64  \n",
      " 6   StaysInWeekendNights         78879 non-null  int64  \n",
      " 7   StaysInWeekNights            78879 non-null  int64  \n",
      " 8   Adults                       78879 non-null  int64  \n",
      " 9   Children                     78879 non-null  float64\n",
      " 10  Babies                       78879 non-null  int64  \n",
      " 11  Meal                         78879 non-null  object \n",
      " 12  Country                      78879 non-null  object \n",
      " 13  MarketSegment                78879 non-null  object \n",
      " 14  DistributionChannel          78879 non-null  object \n",
      " 15  IsRepeatedGuest              78879 non-null  int64  \n",
      " 16  PreviousCancellations        78879 non-null  int64  \n",
      " 17  PreviousBookingsNotCanceled  78879 non-null  int64  \n",
      " 18  ReservedRoomType             78879 non-null  object \n",
      " 19  AssignedRoomType             78879 non-null  object \n",
      " 20  BookingChanges               78879 non-null  int64  \n",
      " 21  DepositType                  78879 non-null  object \n",
      " 22  Agent                        78879 non-null  object \n",
      " 23  DaysInWaitingList            78879 non-null  int64  \n",
      " 24  CustomerType                 78879 non-null  object \n",
      " 25  ADR                          78879 non-null  float64\n",
      " 26  RequiredCarParkingSpaces     78879 non-null  int64  \n",
      " 27  TotalOfSpecialRequests       78879 non-null  int64  \n",
      " 28  ReservationStatus            78879 non-null  object \n",
      " 29  ReservationStatusDate        78879 non-null  object \n",
      "dtypes: float64(2), int64(16), object(12)\n",
      "memory usage: 18.7+ MB\n"
     ]
    }
   ],
   "source": [
    "#verificando os data types numéricos\n",
    "df.info()"
   ]
  },
  {
   "cell_type": "markdown",
   "metadata": {},
   "source": [
    "Finalizamos o tratamento inicial dos dados.\n",
    "\n",
    "Ficamos com um dataset de 78978 pontos e 30 colunas, em que somente a coluna Agent possui valores nulos (cerca de 10%).\n",
    "\n",
    "Faremos, em seguida, a Análise Exploratória de Dados."
   ]
  },
  {
   "cell_type": "code",
   "execution_count": 36,
   "metadata": {},
   "outputs": [],
   "source": [
    "#exportando o dataset tratado\n",
    "df.to_csv('hotels_tratado.csv', index=False)"
   ]
  }
 ],
 "metadata": {
  "kernelspec": {
   "display_name": "Python 3",
   "language": "python",
   "name": "python3"
  },
  "language_info": {
   "codemirror_mode": {
    "name": "ipython",
    "version": 3
   },
   "file_extension": ".py",
   "mimetype": "text/x-python",
   "name": "python",
   "nbconvert_exporter": "python",
   "pygments_lexer": "ipython3",
   "version": "3.7.6"
  }
 },
 "nbformat": 4,
 "nbformat_minor": 4
}
